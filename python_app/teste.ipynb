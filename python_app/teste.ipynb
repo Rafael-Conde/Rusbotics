{
 "cells": [
  {
   "cell_type": "code",
   "execution_count": 2,
   "metadata": {},
   "outputs": [
    {
     "name": "stdout",
     "output_type": "stream",
     "text": [
      "começo da multiplicação das matrizes em 2023-06-21 20:53:07.429150\n",
      "-----------------------------------------------------------------------------------------------\n",
      "inicio da iteração N° 1: 2023-06-21 20:53:07.429150\n",
      "\n",
      "\ttempo de criação da matriz da iteração N° 1: 0:00:00.001111\n",
      "\n",
      "\ttempo multiplicação da iteração N° 1: 0:00:00.002970\n",
      "\n",
      "tempo da iteração N° 1: 0:00:00.005080\n",
      "\n",
      "\n",
      "-----------------------------------------------------------------------------------------------\n",
      "inicio da iteração N° 2: 2023-06-21 20:53:07.434230\n",
      "\n",
      "\ttempo de criação da matriz da iteração N° 2: 0:00:00.001005\n",
      "\n",
      "\ttempo multiplicação da iteração N° 2: 0:00:00.000994\n",
      "\n",
      "tempo da iteração N° 2: 0:00:00.001999\n",
      "\n",
      "\n",
      "-----------------------------------------------------------------------------------------------\n",
      "\n",
      "\n",
      "\n",
      "\ttempo simplificação da iteração N° 1: 0:00:00\n",
      "2023-06-21 20:53:07.429150\n",
      "2023-06-21 20:53:07.436229\n",
      "0:00:00.007079\n",
      "\n",
      "\n",
      " 0:00:02.272713\n"
     ]
    },
    {
     "data": {
      "text/latex": [
       "$\\displaystyle \\left[\\begin{matrix}- a_{1} \\sin{\\left(\\theta_{1}{\\left(t \\right)} \\right)} - a_{2} \\sin{\\left(\\theta_{1}{\\left(t \\right)} + \\theta_{2}{\\left(t \\right)} \\right)} & - a_{2} \\sin{\\left(\\theta_{1}{\\left(t \\right)} + \\theta_{2}{\\left(t \\right)} \\right)}\\\\a_{1} \\cos{\\left(\\theta_{1}{\\left(t \\right)} \\right)} + a_{2} \\cos{\\left(\\theta_{1}{\\left(t \\right)} + \\theta_{2}{\\left(t \\right)} \\right)} & a_{2} \\cos{\\left(\\theta_{1}{\\left(t \\right)} + \\theta_{2}{\\left(t \\right)} \\right)}\\\\0 & 0\\\\0 & 0\\\\0 & 0\\\\1 & 1\\end{matrix}\\right]$"
      ],
      "text/plain": [
       "Matrix([\n",
       "[-a_1*sin(theta_1(t)) - a_2*sin(theta_1(t) + theta_2(t)), -a_2*sin(theta_1(t) + theta_2(t))],\n",
       "[ a_1*cos(theta_1(t)) + a_2*cos(theta_1(t) + theta_2(t)),  a_2*cos(theta_1(t) + theta_2(t))],\n",
       "[                                                      0,                                 0],\n",
       "[                                                      0,                                 0],\n",
       "[                                                      0,                                 0],\n",
       "[                                                      1,                                 1]])"
      ]
     },
     "metadata": {},
     "output_type": "display_data"
    }
   ],
   "source": [
    "# 1° coluna = alpha, 2° coluna = ai, 3° coluna = di, 4° coluna = theta\n",
    "# joint é uma matriz para cada linha da tabela DH onde r signigica uma junta rotativa e p uma junta prismática\n",
    "# tabela_DH =([['alpha_1','a_1','d_1','theta_1'],\n",
    "#             ['alpha_2','a_2','d_2','theta_2']])\n",
    "\n",
    "\n",
    "# Versão do sympy é 1.10.1\n",
    "\n",
    "\n",
    "from library import *\n",
    "import datetime as dt\n",
    "# from IPython.display import display\n",
    "\n",
    "\n",
    "tabela_DH = ([['0', 'a_1', '0', 'theta_1'],\n",
    "             ['0', 'a_2', '0', 'theta_2']])#,\n",
    "#               ['alpha_3', 'a_3', 'd_3', 'theta_3'],\n",
    "#               ['alpha_4', 'a_4', 'd_4', 'theta_4'],\n",
    "#               ['alpha_5', 'a_5', 'd_5', 'theta_5'],\n",
    "#               ['alpha_6', 'a_6', 'd_6', 'theta_6']])\n",
    "joints = (['r', 'r'])#, 'r', 'r', 'r', 'r'])\n",
    "\n",
    "tabela_DH = symbolization(tabela_DH, joints)\n",
    "\n",
    "lista_itens = direct_kinematic(tabela_DH, joints)\n",
    "\n",
    "print(lista_itens[1])\n",
    "# finish = dt.datetime.now()\n",
    "print(lista_itens[2])\n",
    "print(lista_itens[2] - lista_itens[1])\n",
    "# transformar esse display no que gera a imagem\n",
    "startt = dt.datetime.now()\n",
    "latex_equation = s.latex(s.trigsimp(lista_itens[0][-1]))\n",
    "endd = dt.datetime.now()\n",
    "\n",
    "print(\"\\n\\n\", endd-startt)\n",
    "# print(type(latex_equation))\n",
    "\n",
    "# p = s.Plot(s.trigsimp(lista_itens[0]))\n",
    "# p.saveimage('/tmp/plot.png', format='png')\n",
    "J_aux = J_aux_preparation(lista_itens[0])\n",
    "Jacobian = Jacobian_calculation(J_aux, joints)\n",
    "display(s.trigsimp(Jacobian))\n"
   ]
  }
 ],
 "metadata": {
  "kernelspec": {
   "display_name": "Python 3",
   "language": "python",
   "name": "python3"
  },
  "language_info": {
   "codemirror_mode": {
    "name": "ipython",
    "version": 3
   },
   "file_extension": ".py",
   "mimetype": "text/x-python",
   "name": "python",
   "nbconvert_exporter": "python",
   "pygments_lexer": "ipython3",
   "version": "3.10.4"
  },
  "orig_nbformat": 4
 },
 "nbformat": 4,
 "nbformat_minor": 2
}
